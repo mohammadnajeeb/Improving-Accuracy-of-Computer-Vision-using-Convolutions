{
 "cells": [
  {
   "cell_type": "code",
   "execution_count": 3,
   "metadata": {},
   "outputs": [
    {
     "name": "stdout",
     "output_type": "stream",
     "text": [
      "Epoch 1/50\n",
      "60000/60000 [==============================] - 3s 47us/sample - loss: 0.4962 - acc: 0.8254\n",
      "Epoch 2/50\n",
      "60000/60000 [==============================] - 3s 46us/sample - loss: 0.3711 - acc: 0.8666\n",
      "Epoch 3/50\n",
      "60000/60000 [==============================] - 3s 47us/sample - loss: 0.3345 - acc: 0.8788\n",
      "Epoch 4/50\n",
      "60000/60000 [==============================] - 3s 49us/sample - loss: 0.3110 - acc: 0.8852\n",
      "Epoch 5/50\n",
      "60000/60000 [==============================] - 4s 61us/sample - loss: 0.2920 - acc: 0.8915\n",
      "Epoch 6/50\n",
      "60000/60000 [==============================] - 4s 70us/sample - loss: 0.2795 - acc: 0.8964\n",
      "Epoch 7/50\n",
      "60000/60000 [==============================] - 4s 61us/sample - loss: 0.2639 - acc: 0.9014\n",
      "Epoch 8/50\n",
      "60000/60000 [==============================] - 4s 59us/sample - loss: 0.2557 - acc: 0.9052\n",
      "Epoch 9/50\n",
      "60000/60000 [==============================] - 4s 61us/sample - loss: 0.2464 - acc: 0.9082\n",
      "Epoch 10/50\n",
      "60000/60000 [==============================] - 4s 65us/sample - loss: 0.2376 - acc: 0.9114\n",
      "Epoch 11/50\n",
      "60000/60000 [==============================] - 4s 72us/sample - loss: 0.2299 - acc: 0.9144\n",
      "Epoch 12/50\n",
      "60000/60000 [==============================] - 4s 64us/sample - loss: 0.2243 - acc: 0.9164\n",
      "Epoch 13/50\n",
      "60000/60000 [==============================] - 4s 60us/sample - loss: 0.2151 - acc: 0.9187\n",
      "Epoch 14/50\n",
      "60000/60000 [==============================] - 4s 61us/sample - loss: 0.2093 - acc: 0.9214\n",
      "Epoch 15/50\n",
      "60000/60000 [==============================] - 4s 61us/sample - loss: 0.2025 - acc: 0.9233\n",
      "Epoch 16/50\n",
      "60000/60000 [==============================] - 4s 63us/sample - loss: 0.1975 - acc: 0.9251\n",
      "Epoch 17/50\n",
      "60000/60000 [==============================] - 4s 64us/sample - loss: 0.1934 - acc: 0.9272\n",
      "Epoch 18/50\n",
      "60000/60000 [==============================] - 4s 64us/sample - loss: 0.1880 - acc: 0.9290\n",
      "Epoch 19/50\n",
      "60000/60000 [==============================] - 3s 57us/sample - loss: 0.1824 - acc: 0.9316\n",
      "Epoch 20/50\n",
      "60000/60000 [==============================] - 4s 62us/sample - loss: 0.1773 - acc: 0.9329\n",
      "Epoch 21/50\n",
      "60000/60000 [==============================] - 4s 65us/sample - loss: 0.1728 - acc: 0.9353\n",
      "Epoch 22/50\n",
      "60000/60000 [==============================] - 4s 66us/sample - loss: 0.1693 - acc: 0.9364\n",
      "Epoch 23/50\n",
      "60000/60000 [==============================] - 4s 62us/sample - loss: 0.1649 - acc: 0.9375\n",
      "Epoch 24/50\n",
      "60000/60000 [==============================] - 4s 64us/sample - loss: 0.1637 - acc: 0.9381\n",
      "Epoch 25/50\n",
      "60000/60000 [==============================] - 4s 63us/sample - loss: 0.1573 - acc: 0.9394\n",
      "Epoch 26/50\n",
      "60000/60000 [==============================] - 4s 62us/sample - loss: 0.1558 - acc: 0.9412\n",
      "Epoch 27/50\n",
      "60000/60000 [==============================] - 4s 63us/sample - loss: 0.1513 - acc: 0.9429\n",
      "Epoch 28/50\n",
      "60000/60000 [==============================] - 4s 62us/sample - loss: 0.1491 - acc: 0.9436\n",
      "Epoch 29/50\n",
      "60000/60000 [==============================] - 4s 62us/sample - loss: 0.1430 - acc: 0.9461\n",
      "Epoch 30/50\n",
      "60000/60000 [==============================] - 4s 62us/sample - loss: 0.1418 - acc: 0.9466\n",
      "Epoch 31/50\n",
      "60000/60000 [==============================] - 4s 62us/sample - loss: 0.1391 - acc: 0.9481\n",
      "Epoch 32/50\n",
      "60000/60000 [==============================] - 4s 63us/sample - loss: 0.1363 - acc: 0.9490\n",
      "Epoch 33/50\n",
      "60000/60000 [==============================] - 4s 62us/sample - loss: 0.1328 - acc: 0.9497\n",
      "Epoch 34/50\n",
      "60000/60000 [==============================] - 4s 62us/sample - loss: 0.1299 - acc: 0.9511\n",
      "Epoch 35/50\n",
      "60000/60000 [==============================] - 4s 62us/sample - loss: 0.1257 - acc: 0.9528\n",
      "Epoch 36/50\n",
      "60000/60000 [==============================] - 4s 63us/sample - loss: 0.1267 - acc: 0.9521\n",
      "Epoch 37/50\n",
      "60000/60000 [==============================] - 4s 62us/sample - loss: 0.1242 - acc: 0.9537\n",
      "Epoch 38/50\n",
      "60000/60000 [==============================] - 4s 65us/sample - loss: 0.1199 - acc: 0.9553\n",
      "Epoch 39/50\n",
      "60000/60000 [==============================] - 4s 64us/sample - loss: 0.1186 - acc: 0.9548\n",
      "Epoch 40/50\n",
      "60000/60000 [==============================] - 4s 63us/sample - loss: 0.1173 - acc: 0.9559\n",
      "Epoch 41/50\n",
      "60000/60000 [==============================] - 4s 62us/sample - loss: 0.1147 - acc: 0.9567\n",
      "Epoch 42/50\n",
      "60000/60000 [==============================] - 4s 62us/sample - loss: 0.1113 - acc: 0.9586\n",
      "Epoch 43/50\n",
      "60000/60000 [==============================] - 4s 62us/sample - loss: 0.1108 - acc: 0.9584\n",
      "Epoch 44/50\n",
      "60000/60000 [==============================] - 4s 62us/sample - loss: 0.1096 - acc: 0.9586\n",
      "Epoch 45/50\n",
      "60000/60000 [==============================] - 4s 62us/sample - loss: 0.1086 - acc: 0.9584\n",
      "Epoch 46/50\n",
      "60000/60000 [==============================] - 4s 64us/sample - loss: 0.1066 - acc: 0.9598\n",
      "Epoch 47/50\n",
      "60000/60000 [==============================] - 4s 62us/sample - loss: 0.1007 - acc: 0.9624\n",
      "Epoch 48/50\n",
      "60000/60000 [==============================] - 4s 62us/sample - loss: 0.1030 - acc: 0.9613\n",
      "Epoch 49/50\n",
      "60000/60000 [==============================] - 4s 63us/sample - loss: 0.0992 - acc: 0.9630\n",
      "Epoch 50/50\n",
      "60000/60000 [==============================] - 4s 63us/sample - loss: 0.0985 - acc: 0.9633\n",
      "10000/10000 [==============================] - 0s 45us/sample - loss: 0.4995 - acc: 0.8879\n"
     ]
    }
   ],
   "source": [
    "#Without Convolutional layers\n",
    "\n",
    "import tensorflow as tf\n",
    "\n",
    "class myCallback(tf.keras.callbacks.Callback):\n",
    "  def on_epoch_end(self, epoch, logs={}):\n",
    "    if(logs.get('acc')>0.99):\n",
    "      print(\"\\nReached 99% accuracy so cancelling training!\")\n",
    "      self.model.stop_training = True\n",
    "\n",
    "mnist = tf.keras.datasets.fashion_mnist\n",
    "(training_images, training_labels), (test_images, test_labels) = mnist.load_data()\n",
    "training_images=training_images / 255.0\n",
    "test_images=test_images / 255.0\n",
    "\n",
    "callbacks = myCallback()\n",
    "\n",
    "model = tf.keras.models.Sequential([\n",
    "  tf.keras.layers.Flatten(),\n",
    "  tf.keras.layers.Dense(128, activation=tf.nn.relu),\n",
    "  tf.keras.layers.Dense(10, activation=tf.nn.softmax)\n",
    "])\n",
    "model.compile(optimizer='adam', loss='sparse_categorical_crossentropy', metrics=['accuracy'])\n",
    "model.fit(training_images, training_labels, epochs=50, callbacks=[callbacks])\n",
    "\n",
    "test_loss = model.evaluate(test_images, test_labels)"
   ]
  },
  {
   "cell_type": "code",
   "execution_count": 4,
   "metadata": {},
   "outputs": [
    {
     "name": "stdout",
     "output_type": "stream",
     "text": [
      "Model: \"sequential_3\"\n",
      "_________________________________________________________________\n",
      "Layer (type)                 Output Shape              Param #   \n",
      "=================================================================\n",
      "conv2d (Conv2D)              (None, 26, 26, 64)        640       \n",
      "_________________________________________________________________\n",
      "max_pooling2d (MaxPooling2D) (None, 13, 13, 64)        0         \n",
      "_________________________________________________________________\n",
      "conv2d_1 (Conv2D)            (None, 11, 11, 64)        36928     \n",
      "_________________________________________________________________\n",
      "max_pooling2d_1 (MaxPooling2 (None, 5, 5, 64)          0         \n",
      "_________________________________________________________________\n",
      "flatten_3 (Flatten)          (None, 1600)              0         \n",
      "_________________________________________________________________\n",
      "dense_6 (Dense)              (None, 128)               204928    \n",
      "_________________________________________________________________\n",
      "dense_7 (Dense)              (None, 10)                1290      \n",
      "=================================================================\n",
      "Total params: 243,786\n",
      "Trainable params: 243,786\n",
      "Non-trainable params: 0\n",
      "_________________________________________________________________\n",
      "Epoch 1/5\n",
      "60000/60000 [==============================] - 10s 168us/sample - loss: 0.4450 - acc: 0.8371\n",
      "Epoch 2/5\n",
      "60000/60000 [==============================] - 8s 136us/sample - loss: 0.2967 - acc: 0.8916\n",
      "Epoch 3/5\n",
      "60000/60000 [==============================] - 9s 144us/sample - loss: 0.2500 - acc: 0.9071\n",
      "Epoch 4/5\n",
      "60000/60000 [==============================] - 9s 143us/sample - loss: 0.2176 - acc: 0.9186\n",
      "Epoch 5/5\n",
      "60000/60000 [==============================] - 9s 142us/sample - loss: 0.1910 - acc: 0.9286\n",
      "10000/10000 [==============================] - 1s 65us/sample - loss: 0.2579 - acc: 0.9078\n"
     ]
    }
   ],
   "source": [
    "#With Convolutional layers\n",
    "\n",
    "import tensorflow as tf\n",
    "\n",
    "mnist = tf.keras.datasets.fashion_mnist\n",
    "\n",
    "(training_images, training_labels), (test_images, test_labels) = mnist.load_data()\n",
    "\n",
    "training_images=training_images.reshape(60000, 28, 28, 1)\n",
    "training_images=training_images / 255.0\n",
    "test_images = test_images.reshape(10000, 28, 28, 1)\n",
    "test_images=test_images/255.0\n",
    "\n",
    "model = tf.keras.models.Sequential([\n",
    "  tf.keras.layers.Conv2D(64, (3,3), activation='relu', input_shape=(28, 28, 1)),\n",
    "  tf.keras.layers.MaxPooling2D(2, 2),\n",
    "  tf.keras.layers.Conv2D(64, (3,3), activation='relu'),\n",
    "  tf.keras.layers.MaxPooling2D(2,2),\n",
    "  tf.keras.layers.Flatten(),\n",
    "  tf.keras.layers.Dense(128, activation='relu'),\n",
    "  tf.keras.layers.Dense(10, activation='softmax')\n",
    "])\n",
    "\n",
    "model.compile(optimizer='adam', loss='sparse_categorical_crossentropy', metrics=['accuracy'])\n",
    "model.summary()\n",
    "model.fit(training_images, training_labels, epochs=5)\n",
    "test_loss = model.evaluate(test_images, test_labels)\n"
   ]
  },
  {
   "cell_type": "code",
   "execution_count": 6,
   "metadata": {},
   "outputs": [
    {
     "name": "stdout",
     "output_type": "stream",
     "text": [
      "[9 2 1 1 6 1 4 6 5 7 4 5 7 3 4 1 2 4 8 0 2 5 7 9 1 4 6 0 9 3 8 8 3 3 8 0 7\n",
      " 5 7 9 6 1 3 7 6 7 2 1 2 2 4 4 5 8 2 2 8 4 8 0 7 7 8 5 1 1 2 3 9 8 7 0 2 6\n",
      " 2 3 1 2 8 4 1 8 5 9 5 0 3 2 0 6 5 3 6 7]\n"
     ]
    }
   ],
   "source": [
    "print(test_labels[:94])"
   ]
  },
  {
   "cell_type": "code",
   "execution_count": 7,
   "metadata": {},
   "outputs": [
    {
     "name": "stdout",
     "output_type": "stream",
     "text": [
      "[9 2 1 1 6 1 4 6 5 7 4 5 7 3 4 1 2 4 8 0 2 5 7 9 1 4 6 0 9 3 8 8 3 3 8 0 7\n",
      " 5 7 9 6 1 3 7 6 7 2 1 2 2 4 4 5 8 2 2 8 4 8 0 7 7 8 5 1 1 2 3 9 8 7 0 2 6\n",
      " 2 3 1 2 8 4 1 8 5 9 5 0 3 2 0 6 5 3 6 7 1 8 0 1 4 2]\n"
     ]
    }
   ],
   "source": [
    "print(test_labels[:100])"
   ]
  },
  {
   "cell_type": "code",
   "execution_count": 9,
   "metadata": {},
   "outputs": [
    {
     "data": {
      "image/png": "[encoded data removed]",
      "text/plain": [
       "<Figure size 432x288 with 12 Axes>"
      ]
     },
     "metadata": {
      "needs_background": "light"
     },
     "output_type": "display_data"
    }
   ],
   "source": [
    "import matplotlib.pyplot as plt\n",
    "\n",
    "f, axarr = plt.subplots(3,4)\n",
    "FIRST_IMAGE=0\n",
    "SECOND_IMAGE=7\n",
    "THIRD_IMAGE=26\n",
    "CONVOLUTION_NUMBER = 1\n",
    "\n",
    "from tensorflow.keras import models\n",
    "layer_outputs = [layer.output for layer in model.layers]\n",
    "activation_model = tf.keras.models.Model(inputs = model.input, outputs = layer_outputs)\n",
    "\n",
    "for x in range(0,4):\n",
    "  f1 = activation_model.predict(test_images[FIRST_IMAGE].reshape(1, 28, 28, 1))[x]\n",
    "  axarr[0,x].imshow(f1[0, : , :, CONVOLUTION_NUMBER], cmap='inferno')\n",
    "  axarr[0,x].grid(False)\n",
    "  f2 = activation_model.predict(test_images[SECOND_IMAGE].reshape(1, 28, 28, 1))[x]\n",
    "  axarr[1,x].imshow(f2[0, : , :, CONVOLUTION_NUMBER], cmap='inferno')\n",
    "  axarr[1,x].grid(False)\n",
    "  f3 = activation_model.predict(test_images[THIRD_IMAGE].reshape(1, 28, 28, 1))[x]\n",
    "  axarr[2,x].imshow(f3[0, : , :, CONVOLUTION_NUMBER], cmap='inferno')\n",
    "  axarr[2,x].grid(False)"
   ]
  },
  {
   "cell_type": "code",
   "execution_count": null,
   "metadata": {},
   "outputs": [],
   "source": []
  }
 ],
 "metadata": {
  "kernelspec": {
   "display_name": "TensorFlow-GPU-1.13",
   "language": "python",
   "name": "tf-gpu"
  },
  "language_info": {
   "codemirror_mode": {
    "name": "ipython",
    "version": 3
   },
   "file_extension": ".py",
   "mimetype": "text/x-python",
   "name": "python",
   "nbconvert_exporter": "python",
   "pygments_lexer": "ipython3",
   "version": "3.7.4"
  }
 },
 "nbformat": 4,
 "nbformat_minor": 2
}
